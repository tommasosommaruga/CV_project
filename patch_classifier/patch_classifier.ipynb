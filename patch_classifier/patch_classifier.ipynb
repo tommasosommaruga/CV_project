{
 "cells": [
  {
   "cell_type": "code",
   "execution_count": 109,
   "metadata": {},
   "outputs": [],
   "source": [
    "import os\n",
    "import numpy as np\n",
    "import tensorflow as tf\n",
    "from PIL import Image\n",
    "#from utils.labels import trainId2label\n",
    "import os\n",
    "import cv2\n",
    "import matplotlib.pyplot as plt\n",
    "import seaborn as sns\n",
    "import tqdm"
   ]
  },
  {
   "cell_type": "code",
   "execution_count": 110,
   "metadata": {},
   "outputs": [],
   "source": [
    "import os\n",
    "\n",
    "# Set base directory dynamically\n",
    "CITYSCAPES_DIR = os.path.abspath(\"../data\")  # Ensures the path is absolute\n",
    "\n",
    "# Define image and label paths\n",
    "IMAGES_DIR = os.path.join(CITYSCAPES_DIR, \"leftImg8bit_trainvaltest\", \"leftImg8bit\", \"train\")\n",
    "LABELS_DIR = os.path.join(CITYSCAPES_DIR, \"gtFine_trainvaltest\", \"gtFine\", \"train\")\n",
    "\n",
    "# Constants\n",
    "LIMIT_IMAGES = 2975  # Number of images to sample\n",
    "MAX_PIXELS = 1000000  # Max number of pixels to process\n",
    "LABEL_ID = 7  # Road label\n"
   ]
  },
  {
   "cell_type": "code",
   "execution_count": 111,
   "metadata": {},
   "outputs": [],
   "source": [
    "def get_city_folders(directory):\n",
    "    \"\"\"Retrieve all city subfolders.\"\"\"\n",
    "    return [os.path.join(directory, city) for city in os.listdir(directory) if os.path.isdir(os.path.join(directory, city))]\n"
   ]
  },
  {
   "cell_type": "code",
   "execution_count": 112,
   "metadata": {},
   "outputs": [],
   "source": [
    "def get_image_label_pairs(images_dir, labels_dir):\n",
    "    \"\"\"Match RGB images with their corresponding label IDs.\"\"\"\n",
    "    image_label_pairs = []\n",
    "    for city_folder in get_city_folders(images_dir):\n",
    "        city_name = os.path.basename(city_folder)\n",
    "        label_city_folder = os.path.join(labels_dir, city_name)\n",
    "\n",
    "        for image_file in os.listdir(city_folder):\n",
    "            if image_file.endswith(\"_leftImg8bit.png\"):\n",
    "                # Image path\n",
    "                image_path = os.path.join(city_folder, image_file)\n",
    "                # Corresponding label file\n",
    "                label_file = image_file.replace(\"_leftImg8bit.png\", \"_gtFine_labelIds.png\")\n",
    "                label_path = os.path.join(label_city_folder, label_file)\n",
    "                if os.path.exists(label_path):\n",
    "                    image_label_pairs.append((image_path, label_path))\n",
    "                    if len(image_label_pairs) >= LIMIT_IMAGES:  # Stop if limit is reached\n",
    "                        return image_label_pairs\n",
    "    return image_label_pairs\n"
   ]
  },
  {
   "cell_type": "code",
   "execution_count": null,
   "metadata": {},
   "outputs": [],
   "source": [
    "def preprocess_data_with_patches(image_label_pairs, patch_size, max_pixels=MAX_PIXELS, label_Id=LABEL_ID):\n",
    "    \"\"\"Extract pixel patches and labels for training.\"\"\"\n",
    "    X = []  # Patches centered around sampled pixels\n",
    "    y = []  # Binary labels (road or not road)\n",
    "    total_pixels = 0\n",
    "    pixels_per_image = max_pixels // LIMIT_IMAGES // 2\n",
    "    patch_radius = patch_size // 2  # Radius to define the patch\n",
    "    \n",
    "    for image_path, label_path in tqdm.tqdm(image_label_pairs):\n",
    "        # Load RGB image\n",
    "        image = cv2.imread(image_path, cv2.IMREAD_COLOR)\n",
    "        # Load label image\n",
    "        label_img = cv2.imread(label_path, cv2.IMREAD_UNCHANGED)\n",
    "\n",
    "        # Pad image and label to handle edge cases\n",
    "        padded_image = cv2.copyMakeBorder(\n",
    "            image, patch_radius, patch_radius, patch_radius, patch_radius, cv2.BORDER_REFLECT\n",
    "        )\n",
    "        padded_label = cv2.copyMakeBorder(\n",
    "            label_img, patch_radius, patch_radius, patch_radius, patch_radius, cv2.BORDER_REFLECT\n",
    "        )\n",
    "        \n",
    "        # Flatten label image into 1D array\n",
    "        label_pixels = label_img.flatten()\n",
    "        \n",
    "        # Filter for road (TrainId = 7) and not-road\n",
    "        road_mask = (label_pixels == label_Id)\n",
    "        not_road_mask = ~road_mask\n",
    "\n",
    "        # Create subsets for road and not-road pixels\n",
    "        road_indices = np.where(road_mask)[0]\n",
    "        not_road_indices = np.where(not_road_mask)[0]\n",
    "        \n",
    "        # Randomly sample pixel indices\n",
    "        sampled_road_indices = np.random.choice(\n",
    "            road_indices, min(pixels_per_image, len(road_indices)), replace=False\n",
    "        )\n",
    "        sampled_not_road_indices = np.random.choice(\n",
    "            not_road_indices, min(pixels_per_image, len(not_road_indices)), replace=False\n",
    "        )\n",
    "\n",
    "        # Combine sampled indices\n",
    "        sampled_indices = np.concatenate([sampled_road_indices, sampled_not_road_indices])\n",
    "        sampled_labels = np.concatenate([\n",
    "            [1] * len(sampled_road_indices), \n",
    "            [0] * len(sampled_not_road_indices)\n",
    "        ])\n",
    "\n",
    "        for idx, label in zip(sampled_indices, sampled_labels):\n",
    "            # Convert 1D index to 2D (row, col)\n",
    "            row, col = divmod(idx, label_img.shape[1])\n",
    "            # Adjust for padding\n",
    "            row += patch_radius\n",
    "            col += patch_radius\n",
    "            # Extract patch\n",
    "            patch = padded_image[row - patch_radius : row + patch_radius + 1,\n",
    "                                 col - patch_radius : col + patch_radius + 1, :]\n",
    "            # Append patch and label\n",
    "            X.append(patch)\n",
    "            y.append(label)\n",
    "            \n",
    "            total_pixels += 1\n",
    "            if total_pixels >= max_pixels:\n",
    "                break\n",
    "        if total_pixels >= max_pixels:\n",
    "            break\n",
    "\n",
    "    \n",
    "\n",
    "    return np.array(X), np.array(y)\n"
   ]
  },
  {
   "cell_type": "code",
   "execution_count": 114,
   "metadata": {},
   "outputs": [
    {
     "name": "stderr",
     "output_type": "stream",
     "text": [
      "100%|██████████| 2975/2975 [09:09<00:00,  5.42it/s]\n"
     ]
    }
   ],
   "source": [
    "# Get image-label pairs\n",
    "image_label_pairs = get_image_label_pairs(IMAGES_DIR, LABELS_DIR)\n",
    "\n",
    "X, y = preprocess_data_with_patches(image_label_pairs, patch_size=16, max_pixels=MAX_PIXELS)\n"
   ]
  },
  {
   "cell_type": "code",
   "execution_count": 115,
   "metadata": {},
   "outputs": [
    {
     "name": "stdout",
     "output_type": "stream",
     "text": [
      "Processed 992712 pixels\n",
      "Number of road pixels: 492912.0\n",
      "Number of not road pixels: 499800.0\n"
     ]
    }
   ],
   "source": [
    "print(f\"Processed {len(X)} pixels\")\n",
    "print(f\"Number of road pixels: {np.sum(y)}\")\n",
    "print(f\"Number of not road pixels: {len(y) - np.sum(y)}\")"
   ]
  },
  {
   "cell_type": "code",
   "execution_count": 116,
   "metadata": {},
   "outputs": [],
   "source": [
    "# Normalize RGB values\n",
    "X = X / 255.0  # Scale RGB to [0, 1]"
   ]
  },
  {
   "cell_type": "code",
   "execution_count": 117,
   "metadata": {},
   "outputs": [],
   "source": [
    "# Model training pipeline\n",
    "import tensorflow as tf\n",
    "from tensorflow.keras import layers, models"
   ]
  },
  {
   "cell_type": "code",
   "execution_count": 118,
   "metadata": {},
   "outputs": [],
   "source": [
    "def build_patch_classifier(patch_size):\n",
    "    model = models.Sequential([\n",
    "        layers.Input(shape=(patch_size, patch_size, 3)),  # Patch input (H x W x Channels)\n",
    "        layers.Conv2D(32, (3, 3), activation='relu', padding='same'),\n",
    "        layers.MaxPooling2D((2, 2)),\n",
    "        layers.Conv2D(64, (3, 3), activation='relu', padding='same'),\n",
    "        layers.MaxPooling2D((2, 2)),\n",
    "        layers.Flatten(),\n",
    "        layers.Dense(128, activation='relu'),\n",
    "        layers.Dense(1, activation='sigmoid')  # Output: road (1) or not road (0)\n",
    "    ])\n",
    "    return model\n"
   ]
  },
  {
   "cell_type": "code",
   "execution_count": 119,
   "metadata": {},
   "outputs": [],
   "source": [
    "# Build and compile the model\n",
    "model = build_patch_classifier(patch_size=16)\n",
    "model.compile(optimizer='adam', loss='binary_crossentropy', metrics=['accuracy'])"
   ]
  },
  {
   "cell_type": "code",
   "execution_count": 120,
   "metadata": {},
   "outputs": [
    {
     "data": {
      "text/html": [
       "<pre style=\"white-space:pre;overflow-x:auto;line-height:normal;font-family:Menlo,'DejaVu Sans Mono',consolas,'Courier New',monospace\"><span style=\"font-weight: bold\">Model: \"sequential_10\"</span>\n",
       "</pre>\n"
      ],
      "text/plain": [
       "\u001b[1mModel: \"sequential_10\"\u001b[0m\n"
      ]
     },
     "metadata": {},
     "output_type": "display_data"
    },
    {
     "data": {
      "text/html": [
       "<pre style=\"white-space:pre;overflow-x:auto;line-height:normal;font-family:Menlo,'DejaVu Sans Mono',consolas,'Courier New',monospace\">┏━━━━━━━━━━━━━━━━━━━━━━━━━━━━━━━━━┳━━━━━━━━━━━━━━━━━━━━━━━━┳━━━━━━━━━━━━━━━┓\n",
       "┃<span style=\"font-weight: bold\"> Layer (type)                    </span>┃<span style=\"font-weight: bold\"> Output Shape           </span>┃<span style=\"font-weight: bold\">       Param # </span>┃\n",
       "┡━━━━━━━━━━━━━━━━━━━━━━━━━━━━━━━━━╇━━━━━━━━━━━━━━━━━━━━━━━━╇━━━━━━━━━━━━━━━┩\n",
       "│ conv2d_19 (<span style=\"color: #0087ff; text-decoration-color: #0087ff\">Conv2D</span>)              │ (<span style=\"color: #00d7ff; text-decoration-color: #00d7ff\">None</span>, <span style=\"color: #00af00; text-decoration-color: #00af00\">16</span>, <span style=\"color: #00af00; text-decoration-color: #00af00\">16</span>, <span style=\"color: #00af00; text-decoration-color: #00af00\">32</span>)     │           <span style=\"color: #00af00; text-decoration-color: #00af00\">896</span> │\n",
       "├─────────────────────────────────┼────────────────────────┼───────────────┤\n",
       "│ max_pooling2d_15 (<span style=\"color: #0087ff; text-decoration-color: #0087ff\">MaxPooling2D</span>) │ (<span style=\"color: #00d7ff; text-decoration-color: #00d7ff\">None</span>, <span style=\"color: #00af00; text-decoration-color: #00af00\">8</span>, <span style=\"color: #00af00; text-decoration-color: #00af00\">8</span>, <span style=\"color: #00af00; text-decoration-color: #00af00\">32</span>)       │             <span style=\"color: #00af00; text-decoration-color: #00af00\">0</span> │\n",
       "├─────────────────────────────────┼────────────────────────┼───────────────┤\n",
       "│ conv2d_20 (<span style=\"color: #0087ff; text-decoration-color: #0087ff\">Conv2D</span>)              │ (<span style=\"color: #00d7ff; text-decoration-color: #00d7ff\">None</span>, <span style=\"color: #00af00; text-decoration-color: #00af00\">8</span>, <span style=\"color: #00af00; text-decoration-color: #00af00\">8</span>, <span style=\"color: #00af00; text-decoration-color: #00af00\">64</span>)       │        <span style=\"color: #00af00; text-decoration-color: #00af00\">18,496</span> │\n",
       "├─────────────────────────────────┼────────────────────────┼───────────────┤\n",
       "│ max_pooling2d_16 (<span style=\"color: #0087ff; text-decoration-color: #0087ff\">MaxPooling2D</span>) │ (<span style=\"color: #00d7ff; text-decoration-color: #00d7ff\">None</span>, <span style=\"color: #00af00; text-decoration-color: #00af00\">4</span>, <span style=\"color: #00af00; text-decoration-color: #00af00\">4</span>, <span style=\"color: #00af00; text-decoration-color: #00af00\">64</span>)       │             <span style=\"color: #00af00; text-decoration-color: #00af00\">0</span> │\n",
       "├─────────────────────────────────┼────────────────────────┼───────────────┤\n",
       "│ flatten_9 (<span style=\"color: #0087ff; text-decoration-color: #0087ff\">Flatten</span>)             │ (<span style=\"color: #00d7ff; text-decoration-color: #00d7ff\">None</span>, <span style=\"color: #00af00; text-decoration-color: #00af00\">1024</span>)           │             <span style=\"color: #00af00; text-decoration-color: #00af00\">0</span> │\n",
       "├─────────────────────────────────┼────────────────────────┼───────────────┤\n",
       "│ dense_20 (<span style=\"color: #0087ff; text-decoration-color: #0087ff\">Dense</span>)                │ (<span style=\"color: #00d7ff; text-decoration-color: #00d7ff\">None</span>, <span style=\"color: #00af00; text-decoration-color: #00af00\">128</span>)            │       <span style=\"color: #00af00; text-decoration-color: #00af00\">131,200</span> │\n",
       "├─────────────────────────────────┼────────────────────────┼───────────────┤\n",
       "│ dense_21 (<span style=\"color: #0087ff; text-decoration-color: #0087ff\">Dense</span>)                │ (<span style=\"color: #00d7ff; text-decoration-color: #00d7ff\">None</span>, <span style=\"color: #00af00; text-decoration-color: #00af00\">1</span>)              │           <span style=\"color: #00af00; text-decoration-color: #00af00\">129</span> │\n",
       "└─────────────────────────────────┴────────────────────────┴───────────────┘\n",
       "</pre>\n"
      ],
      "text/plain": [
       "┏━━━━━━━━━━━━━━━━━━━━━━━━━━━━━━━━━┳━━━━━━━━━━━━━━━━━━━━━━━━┳━━━━━━━━━━━━━━━┓\n",
       "┃\u001b[1m \u001b[0m\u001b[1mLayer (type)                   \u001b[0m\u001b[1m \u001b[0m┃\u001b[1m \u001b[0m\u001b[1mOutput Shape          \u001b[0m\u001b[1m \u001b[0m┃\u001b[1m \u001b[0m\u001b[1m      Param #\u001b[0m\u001b[1m \u001b[0m┃\n",
       "┡━━━━━━━━━━━━━━━━━━━━━━━━━━━━━━━━━╇━━━━━━━━━━━━━━━━━━━━━━━━╇━━━━━━━━━━━━━━━┩\n",
       "│ conv2d_19 (\u001b[38;5;33mConv2D\u001b[0m)              │ (\u001b[38;5;45mNone\u001b[0m, \u001b[38;5;34m16\u001b[0m, \u001b[38;5;34m16\u001b[0m, \u001b[38;5;34m32\u001b[0m)     │           \u001b[38;5;34m896\u001b[0m │\n",
       "├─────────────────────────────────┼────────────────────────┼───────────────┤\n",
       "│ max_pooling2d_15 (\u001b[38;5;33mMaxPooling2D\u001b[0m) │ (\u001b[38;5;45mNone\u001b[0m, \u001b[38;5;34m8\u001b[0m, \u001b[38;5;34m8\u001b[0m, \u001b[38;5;34m32\u001b[0m)       │             \u001b[38;5;34m0\u001b[0m │\n",
       "├─────────────────────────────────┼────────────────────────┼───────────────┤\n",
       "│ conv2d_20 (\u001b[38;5;33mConv2D\u001b[0m)              │ (\u001b[38;5;45mNone\u001b[0m, \u001b[38;5;34m8\u001b[0m, \u001b[38;5;34m8\u001b[0m, \u001b[38;5;34m64\u001b[0m)       │        \u001b[38;5;34m18,496\u001b[0m │\n",
       "├─────────────────────────────────┼────────────────────────┼───────────────┤\n",
       "│ max_pooling2d_16 (\u001b[38;5;33mMaxPooling2D\u001b[0m) │ (\u001b[38;5;45mNone\u001b[0m, \u001b[38;5;34m4\u001b[0m, \u001b[38;5;34m4\u001b[0m, \u001b[38;5;34m64\u001b[0m)       │             \u001b[38;5;34m0\u001b[0m │\n",
       "├─────────────────────────────────┼────────────────────────┼───────────────┤\n",
       "│ flatten_9 (\u001b[38;5;33mFlatten\u001b[0m)             │ (\u001b[38;5;45mNone\u001b[0m, \u001b[38;5;34m1024\u001b[0m)           │             \u001b[38;5;34m0\u001b[0m │\n",
       "├─────────────────────────────────┼────────────────────────┼───────────────┤\n",
       "│ dense_20 (\u001b[38;5;33mDense\u001b[0m)                │ (\u001b[38;5;45mNone\u001b[0m, \u001b[38;5;34m128\u001b[0m)            │       \u001b[38;5;34m131,200\u001b[0m │\n",
       "├─────────────────────────────────┼────────────────────────┼───────────────┤\n",
       "│ dense_21 (\u001b[38;5;33mDense\u001b[0m)                │ (\u001b[38;5;45mNone\u001b[0m, \u001b[38;5;34m1\u001b[0m)              │           \u001b[38;5;34m129\u001b[0m │\n",
       "└─────────────────────────────────┴────────────────────────┴───────────────┘\n"
      ]
     },
     "metadata": {},
     "output_type": "display_data"
    },
    {
     "data": {
      "text/html": [
       "<pre style=\"white-space:pre;overflow-x:auto;line-height:normal;font-family:Menlo,'DejaVu Sans Mono',consolas,'Courier New',monospace\"><span style=\"font-weight: bold\"> Total params: </span><span style=\"color: #00af00; text-decoration-color: #00af00\">150,721</span> (588.75 KB)\n",
       "</pre>\n"
      ],
      "text/plain": [
       "\u001b[1m Total params: \u001b[0m\u001b[38;5;34m150,721\u001b[0m (588.75 KB)\n"
      ]
     },
     "metadata": {},
     "output_type": "display_data"
    },
    {
     "data": {
      "text/html": [
       "<pre style=\"white-space:pre;overflow-x:auto;line-height:normal;font-family:Menlo,'DejaVu Sans Mono',consolas,'Courier New',monospace\"><span style=\"font-weight: bold\"> Trainable params: </span><span style=\"color: #00af00; text-decoration-color: #00af00\">150,721</span> (588.75 KB)\n",
       "</pre>\n"
      ],
      "text/plain": [
       "\u001b[1m Trainable params: \u001b[0m\u001b[38;5;34m150,721\u001b[0m (588.75 KB)\n"
      ]
     },
     "metadata": {},
     "output_type": "display_data"
    },
    {
     "data": {
      "text/html": [
       "<pre style=\"white-space:pre;overflow-x:auto;line-height:normal;font-family:Menlo,'DejaVu Sans Mono',consolas,'Courier New',monospace\"><span style=\"font-weight: bold\"> Non-trainable params: </span><span style=\"color: #00af00; text-decoration-color: #00af00\">0</span> (0.00 B)\n",
       "</pre>\n"
      ],
      "text/plain": [
       "\u001b[1m Non-trainable params: \u001b[0m\u001b[38;5;34m0\u001b[0m (0.00 B)\n"
      ]
     },
     "metadata": {},
     "output_type": "display_data"
    }
   ],
   "source": [
    "model.summary()"
   ]
  },
  {
   "cell_type": "code",
   "execution_count": 121,
   "metadata": {},
   "outputs": [],
   "source": [
    "# Split data into training and validation sets\n",
    "from sklearn.model_selection import train_test_split\n",
    "X_train, X_val, y_train, y_val = train_test_split(X, y, test_size=0.2, random_state=55)"
   ]
  },
  {
   "cell_type": "code",
   "execution_count": 122,
   "metadata": {},
   "outputs": [
    {
     "name": "stdout",
     "output_type": "stream",
     "text": [
      "Epoch 1/10\n",
      "\u001b[1m3103/3103\u001b[0m \u001b[32m━━━━━━━━━━━━━━━━━━━━\u001b[0m\u001b[37m\u001b[0m \u001b[1m179s\u001b[0m 57ms/step - accuracy: 0.7958 - loss: 0.4454 - val_accuracy: 0.8230 - val_loss: 0.4024\n",
      "Epoch 2/10\n",
      "\u001b[1m3103/3103\u001b[0m \u001b[32m━━━━━━━━━━━━━━━━━━━━\u001b[0m\u001b[37m\u001b[0m \u001b[1m167s\u001b[0m 54ms/step - accuracy: 0.8372 - loss: 0.3760 - val_accuracy: 0.8394 - val_loss: 0.3694\n",
      "Epoch 3/10\n",
      "\u001b[1m3103/3103\u001b[0m \u001b[32m━━━━━━━━━━━━━━━━━━━━\u001b[0m\u001b[37m\u001b[0m \u001b[1m157s\u001b[0m 51ms/step - accuracy: 0.8502 - loss: 0.3410 - val_accuracy: 0.8550 - val_loss: 0.3291\n",
      "Epoch 4/10\n",
      "\u001b[1m3103/3103\u001b[0m \u001b[32m━━━━━━━━━━━━━━━━━━━━\u001b[0m\u001b[37m\u001b[0m \u001b[1m153s\u001b[0m 49ms/step - accuracy: 0.8598 - loss: 0.3209 - val_accuracy: 0.8646 - val_loss: 0.3123\n",
      "Epoch 5/10\n",
      "\u001b[1m3103/3103\u001b[0m \u001b[32m━━━━━━━━━━━━━━━━━━━━\u001b[0m\u001b[37m\u001b[0m \u001b[1m155s\u001b[0m 50ms/step - accuracy: 0.8646 - loss: 0.3093 - val_accuracy: 0.8690 - val_loss: 0.2998\n",
      "Epoch 6/10\n",
      "\u001b[1m3103/3103\u001b[0m \u001b[32m━━━━━━━━━━━━━━━━━━━━\u001b[0m\u001b[37m\u001b[0m \u001b[1m158s\u001b[0m 51ms/step - accuracy: 0.8680 - loss: 0.3022 - val_accuracy: 0.8683 - val_loss: 0.2997\n",
      "Epoch 7/10\n",
      "\u001b[1m3103/3103\u001b[0m \u001b[32m━━━━━━━━━━━━━━━━━━━━\u001b[0m\u001b[37m\u001b[0m \u001b[1m160s\u001b[0m 51ms/step - accuracy: 0.8712 - loss: 0.2956 - val_accuracy: 0.8561 - val_loss: 0.3290\n",
      "Epoch 8/10\n",
      "\u001b[1m3103/3103\u001b[0m \u001b[32m━━━━━━━━━━━━━━━━━━━━\u001b[0m\u001b[37m\u001b[0m \u001b[1m161s\u001b[0m 52ms/step - accuracy: 0.8734 - loss: 0.2916 - val_accuracy: 0.8713 - val_loss: 0.2943\n",
      "Epoch 9/10\n",
      "\u001b[1m3103/3103\u001b[0m \u001b[32m━━━━━━━━━━━━━━━━━━━━\u001b[0m\u001b[37m\u001b[0m \u001b[1m159s\u001b[0m 51ms/step - accuracy: 0.8747 - loss: 0.2887 - val_accuracy: 0.8608 - val_loss: 0.3138\n",
      "Epoch 10/10\n",
      "\u001b[1m3103/3103\u001b[0m \u001b[32m━━━━━━━━━━━━━━━━━━━━\u001b[0m\u001b[37m\u001b[0m \u001b[1m159s\u001b[0m 51ms/step - accuracy: 0.8759 - loss: 0.2847 - val_accuracy: 0.8755 - val_loss: 0.2886\n"
     ]
    },
    {
     "data": {
      "text/plain": [
       "<keras.src.callbacks.history.History at 0x181527dd0>"
      ]
     },
     "execution_count": 122,
     "metadata": {},
     "output_type": "execute_result"
    }
   ],
   "source": [
    "# Train the model\n",
    "model.fit(X_train, y_train, epochs=10, batch_size=256, validation_data=(X_val, y_val))"
   ]
  },
  {
   "cell_type": "code",
   "execution_count": 125,
   "metadata": {},
   "outputs": [
    {
     "name": "stderr",
     "output_type": "stream",
     "text": [
      "WARNING:absl:You are saving your model as an HDF5 file via `model.save()` or `keras.saving.save_model(model)`. This file format is considered legacy. We recommend using instead the native Keras format, e.g. `model.save('my_model.keras')` or `keras.saving.save_model(model, 'my_model.keras')`. \n"
     ]
    }
   ],
   "source": [
    "model.save(\"road_pacth_classifier.h5\")"
   ]
  },
  {
   "cell_type": "code",
   "execution_count": 123,
   "metadata": {},
   "outputs": [
    {
     "name": "stdout",
     "output_type": "stream",
     "text": [
      "\u001b[1m6205/6205\u001b[0m \u001b[32m━━━━━━━━━━━━━━━━━━━━\u001b[0m\u001b[37m\u001b[0m \u001b[1m19s\u001b[0m 3ms/step\n",
      "              precision    recall  f1-score   support\n",
      "\n",
      "         0.0       0.93      0.82      0.87     99930\n",
      "         1.0       0.84      0.93      0.88     98613\n",
      "\n",
      "    accuracy                           0.88    198543\n",
      "   macro avg       0.88      0.88      0.88    198543\n",
      "weighted avg       0.88      0.88      0.88    198543\n",
      "\n"
     ]
    },
    {
     "data": {
      "image/png": "[encoded data removed]",
      "text/plain": [
       "<Figure size 640x480 with 2 Axes>"
      ]
     },
     "metadata": {},
     "output_type": "display_data"
    }
   ],
   "source": [
    "#plot the confusion matrix of the model so i can see f1, accuracy, ecc...\n",
    "from sklearn.metrics import confusion_matrix\n",
    "\n",
    "y_pred = model.predict(X_val)\n",
    "y_pred = (y_pred > 0.5).astype(int)\n",
    "cm = confusion_matrix(y_val, y_pred)\n",
    "#print classification report\n",
    "from sklearn.metrics import classification_report\n",
    "print(classification_report(y_val, y_pred))\n",
    "sns.heatmap(cm, annot=True, fmt='d')\n",
    "plt.xlabel('Predicted')\n",
    "plt.ylabel('True')\n",
    "plt.show()\n"
   ]
  },
  {
   "cell_type": "code",
   "execution_count": 124,
   "metadata": {},
   "outputs": [
    {
     "name": "stdout",
     "output_type": "stream",
     "text": [
      "\u001b[1m6205/6205\u001b[0m \u001b[32m━━━━━━━━━━━━━━━━━━━━\u001b[0m\u001b[37m\u001b[0m \u001b[1m21s\u001b[0m 3ms/step\n"
     ]
    },
    {
     "data": {
      "image/png": "[encoded data removed]",
      "text/plain": [
       "<Figure size 640x480 with 1 Axes>"
      ]
     },
     "metadata": {},
     "output_type": "display_data"
    }
   ],
   "source": [
    "# plot roc curve\n",
    "from sklearn.metrics import roc_curve, auc\n",
    "y_pred = model.predict(X_val)\n",
    "\n",
    "fpr, tpr, threshold = roc_curve(y_val, y_pred)\n",
    "roc_auc = auc(fpr, tpr)\n",
    "\n",
    "plt.figure()\n",
    "plt.plot(fpr, tpr, color='darkorange', lw=2, label='ROC curve (area = %0.2f)' % roc_auc)\n",
    "plt.plot([0, 1], [0, 1], color='navy', lw=2, linestyle='--')\n",
    "plt.xlim([0.0, 1.0])\n",
    "plt.ylim([0.0, 1.05])\n",
    "plt.xlabel('False Positive Rate')\n",
    "plt.ylabel('True Positive Rate')\n",
    "plt.title('Receiver Operating Characteristic')\n",
    "plt.legend(loc='lower right')\n",
    "plt.show()\n"
   ]
  },
  {
   "cell_type": "code",
   "execution_count": null,
   "metadata": {},
   "outputs": [],
   "source": []
  }
 ],
 "metadata": {
  "kernelspec": {
   "display_name": "Python 3",
   "language": "python",
   "name": "python3"
  },
  "language_info": {
   "codemirror_mode": {
    "name": "ipython",
    "version": 3
   },
   "file_extension": ".py",
   "mimetype": "text/x-python",
   "name": "python",
   "nbconvert_exporter": "python",
   "pygments_lexer": "ipython3",
   "version": "3.11.1"
  }
 },
 "nbformat": 4,
 "nbformat_minor": 2
}
