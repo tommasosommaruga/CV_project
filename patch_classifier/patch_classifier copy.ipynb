{
 "cells": [
  {
   "cell_type": "code",
   "execution_count": 1,
   "metadata": {},
   "outputs": [
    {
     "name": "stderr",
     "output_type": "stream",
     "text": [
      "2024-11-27 08:53:02.689904: I tensorflow/core/platform/cpu_feature_guard.cc:210] This TensorFlow binary is optimized to use available CPU instructions in performance-critical operations.\n",
      "To enable the following instructions: AVX2 FMA, in other operations, rebuild TensorFlow with the appropriate compiler flags.\n"
     ]
    }
   ],
   "source": [
    "import os\n",
    "import numpy as np\n",
    "from PIL import Image\n",
    "#from utils.labels import trainId2label\n",
    "import os\n",
    "import cv2\n",
    "import matplotlib.pyplot as plt\n",
    "import seaborn as sns\n",
    "import tqdm\n",
    "import tensorflow as tf\n",
    "from tensorflow.keras import models, layers, optimizers, callbacks\n"
   ]
  },
  {
   "cell_type": "code",
   "execution_count": 2,
   "metadata": {},
   "outputs": [],
   "source": [
    "import os\n",
    "\n",
    "# Set base directory dynamically\n",
    "CITYSCAPES_DIR = os.path.abspath(\"../data\")  # Ensures the path is absolute\n",
    "\n",
    "# Define image and label paths\n",
    "IMAGES_DIR = os.path.join(CITYSCAPES_DIR, \"leftImg8bit_trainvaltest\", \"leftImg8bit\", \"train\")\n",
    "LABELS_DIR = os.path.join(CITYSCAPES_DIR, \"gtFine_trainvaltest\", \"gtFine\", \"train\")\n",
    "VAL_IMAGES_DIR = os.path.join(CITYSCAPES_DIR, \"leftImg8bit_trainvaltest\", \"leftImg8bit\", \"val\")\n",
    "VAL_LABELS_DIR = os.path.join(CITYSCAPES_DIR, \"gtFine_trainvaltest\", \"gtFine\", \"val\")\n",
    "\n",
    "# Constants\n",
    "LIMIT_IMAGES = 2975  # Number of images to sample\n",
    "MAX_PIXELS = 1000000  # Max number of pixels to process\n",
    "LABEL_ID = 7  # Road label\n",
    "PATCH_SIZE = 32 # Patch size"
   ]
  },
  {
   "cell_type": "code",
   "execution_count": 3,
   "metadata": {},
   "outputs": [],
   "source": [
    "def get_city_folders(directory):\n",
    "    \"\"\"Retrieve all city subfolders.\"\"\"\n",
    "    return [os.path.join(directory, city) for city in os.listdir(directory) if os.path.isdir(os.path.join(directory, city))]\n"
   ]
  },
  {
   "cell_type": "code",
   "execution_count": null,
   "metadata": {},
   "outputs": [],
   "source": [
    "def load_images_from_folder(images_dir, labels_dir):\n",
    "    image_paths = []\n",
    "    label_paths = []\n",
    "    \n",
    "    for filename in os.listdir(images_dir):\n",
    "        if filename.endswith(\".png\"): \n",
    "            image_paths.append(os.path.join(images_dir, filename))\n",
    "            label_paths.append(os.path.join(labels_dir, filename.replace(\"leftImg8bit\", \"gtFine\").replace(\".png\", \"_label.png\")))\n",
    "    \n",
    "    return image_paths, label_paths"
   ]
  },
  {
   "cell_type": "code",
   "execution_count": 5,
   "metadata": {},
   "outputs": [],
   "source": [
    "def get_image_label_pairs(images_dir, labels_dir):\n",
    "    \"\"\"Match RGB images with their corresponding label IDs.\"\"\"\n",
    "    image_label_pairs = []\n",
    "    for city_folder in get_city_folders(images_dir):\n",
    "        city_name = os.path.basename(city_folder)\n",
    "        label_city_folder = os.path.join(labels_dir, city_name)\n",
    "\n",
    "        for image_file in os.listdir(city_folder):\n",
    "            if image_file.endswith(\"_leftImg8bit.png\"):\n",
    "                # Image path\n",
    "                image_path = os.path.join(city_folder, image_file)\n",
    "                # Corresponding label file\n",
    "                label_file = image_file.replace(\"_leftImg8bit.png\", \"_gtFine_labelIds.png\")\n",
    "                label_path = os.path.join(label_city_folder, label_file)\n",
    "                if os.path.exists(label_path):\n",
    "                    image_label_pairs.append((image_path, label_path))\n",
    "                    if len(image_label_pairs) >= LIMIT_IMAGES:  # Stop if limit is reached\n",
    "                        return image_label_pairs\n",
    "    return image_label_pairs\n"
   ]
  },
  {
   "cell_type": "code",
   "execution_count": null,
   "metadata": {},
   "outputs": [],
   "source": [
    "# Preprocess data and extract patches\n",
    "def preprocess_data_with_patches(image_label_pairs, patch_size=PATCH_SIZE, max_pixels=MAX_PIXELS, label_Id=LABEL_ID, target_width=256):\n",
    "    \"\"\"Extract pixel patches and labels for training, keeping the aspect ratio.\"\"\"\n",
    "    X = [] \n",
    "    y = []  \n",
    "    total_pixels = 0\n",
    "    pixels_per_image = max_pixels // LIMIT_IMAGES // 2\n",
    "    half_patch_size = patch_size // 2  # Half the size of the patch (for padding)\n",
    "    \n",
    "    for image_path, label_path in tqdm.tqdm(image_label_pairs):\n",
    "        image = cv2.imread(image_path, cv2.IMREAD_COLOR)\n",
    "        h, w = image.shape[:2]\n",
    "        \n",
    "        target_height = int((target_width / w) * h)\n",
    "        image = cv2.resize(image, (target_width, target_height))\n",
    "\n",
    "        label_img = cv2.imread(label_path, cv2.IMREAD_UNCHANGED)\n",
    "        label_img = cv2.resize(label_img, (target_width, target_height))\n",
    "\n",
    "        padded_image = cv2.copyMakeBorder(\n",
    "            image, half_patch_size, half_patch_size, half_patch_size, half_patch_size, cv2.BORDER_REFLECT\n",
    "        )\n",
    "        label_pixels = label_img.flatten()\n",
    "        \n",
    "        road_mask = (label_pixels == label_Id)\n",
    "        not_road_mask = ~road_mask\n",
    "\n",
    "        road_indices = np.where(road_mask)[0]\n",
    "        not_road_indices = np.where(not_road_mask)[0]\n",
    "        \n",
    "        sampled_road_indices = np.random.choice(\n",
    "            road_indices, min(pixels_per_image, len(road_indices)), replace=False\n",
    "        )\n",
    "        sampled_not_road_indices = np.random.choice(\n",
    "            not_road_indices, min(pixels_per_image, len(not_road_indices)), replace=False\n",
    "        )\n",
    "\n",
    "        sampled_indices = np.concatenate([sampled_road_indices, sampled_not_road_indices])\n",
    "        sampled_labels = np.concatenate([\n",
    "            [1] * len(sampled_road_indices), \n",
    "            [0] * len(sampled_not_road_indices)\n",
    "        ])\n",
    "\n",
    "        for idx, label in zip(sampled_indices, sampled_labels):\n",
    "            row, col = divmod(idx, label_img.shape[1])\n",
    "            row += half_patch_size  \n",
    "            col += half_patch_size \n",
    "            patch = padded_image[row - half_patch_size : row + half_patch_size + 1,\n",
    "                                 col - half_patch_size : col + half_patch_size + 1, :]\n",
    "            X.append(patch)\n",
    "            y.append(label)\n",
    "            \n",
    "            total_pixels += 1\n",
    "            if total_pixels >= max_pixels:\n",
    "                break\n",
    "        if total_pixels >= max_pixels:\n",
    "            break\n",
    "\n",
    "    return np.array(X), np.array(y)"
   ]
  },
  {
   "cell_type": "code",
   "execution_count": 7,
   "metadata": {},
   "outputs": [
    {
     "name": "stderr",
     "output_type": "stream",
     "text": [
      "100%|██████████| 2975/2975 [03:53<00:00, 12.71it/s]\n",
      "100%|██████████| 500/500 [00:47<00:00, 10.51it/s]\n"
     ]
    }
   ],
   "source": [
    "def extract_train_val_data(patch_size=PATCH_SIZE, max_pixels=MAX_PIXELS, label_Id=LABEL_ID, target_width=256):\n",
    "    \"\"\"Extract training and validation data.\"\"\"\n",
    "    train_image_label_pairs = get_image_label_pairs(IMAGES_DIR, LABELS_DIR)\n",
    "    val_image_label_pairs = get_image_label_pairs(VAL_IMAGES_DIR, VAL_LABELS_DIR)\n",
    "    \n",
    "    X_train, y_train = preprocess_data_with_patches(train_image_label_pairs, patch_size, max_pixels, label_Id, target_width)\n",
    "    X_val, y_val = preprocess_data_with_patches(val_image_label_pairs, patch_size, max_pixels, label_Id, target_width)\n",
    "\n",
    "    return X_train, X_val, y_train, y_val\n",
    "\n",
    "X_train, X_val, y_train, y_val = extract_train_val_data()"
   ]
  },
  {
   "cell_type": "code",
   "execution_count": 8,
   "metadata": {},
   "outputs": [
    {
     "name": "stdout",
     "output_type": "stream",
     "text": [
      "Processed 993131 pixels\n",
      "Number of road pixels: 493331.0\n",
      "Number of not road pixels: 499800.0\n",
      "\n",
      "Processed 165246 pixels\n",
      "Number of road pixels: 81246.0\n",
      "Number of not road pixels: 84000.0\n"
     ]
    }
   ],
   "source": [
    "print(f\"Processed {len(X_train)} pixels\")\n",
    "print(f\"Number of road pixels: {np.sum(y_train)}\")\n",
    "print(f\"Number of not road pixels: {len(y_train) - np.sum(y_train)}\")\n",
    "\n",
    "print(f\"\\nProcessed {len(X_val)} pixels\")\n",
    "print(f\"Number of road pixels: {np.sum(y_val)}\")\n",
    "print(f\"Number of not road pixels: {len(y_val) - np.sum(y_val)}\")"
   ]
  },
  {
   "cell_type": "code",
   "execution_count": 9,
   "metadata": {},
   "outputs": [],
   "source": [
    "X_train, X_val = X_train / 255.0, X_val / 255.0"
   ]
  },
  {
   "cell_type": "code",
   "execution_count": 10,
   "metadata": {},
   "outputs": [],
   "source": [
    "def build_patch_classifier(patch_size):\n",
    "    model = models.Sequential([\n",
    "        layers.Input(shape=(patch_size, patch_size, 3)),  # Patch input (H x W x Channels)\n",
    "        layers.Conv2D(32, (3, 3), activation='relu', padding='same'),\n",
    "        layers.MaxPooling2D((2, 2)),\n",
    "        layers.Conv2D(64, (3, 3), activation='relu', padding='same'),\n",
    "        layers.MaxPooling2D((2, 2)),\n",
    "        layers.Flatten(),\n",
    "        layers.Dense(128, activation='relu'),\n",
    "        layers.Dense(1, activation='sigmoid')  # Output: road (1) or not road (0)\n",
    "    ])\n",
    "    return model\n"
   ]
  },
  {
   "cell_type": "code",
   "execution_count": 11,
   "metadata": {},
   "outputs": [],
   "source": [
    "model1 = build_patch_classifier(16)\n",
    "model1.load_weights('road_patch_classifier.h5')\n"
   ]
  },
  {
   "cell_type": "code",
   "execution_count": 14,
   "metadata": {},
   "outputs": [
    {
     "name": "stdout",
     "output_type": "stream",
     "text": [
      "Epoch 1/20\n"
     ]
    },
    {
     "ename": "ValueError",
     "evalue": "Exception encountered when calling Sequential.call().\n\n\u001b[1mInput 0 of layer \"dense_10\" is incompatible with the layer: expected axis -1 of input shape to have value 16384, but received input with shape (None, 4096)\u001b[0m\n\nArguments received by Sequential.call():\n  • inputs=tf.Tensor(shape=(None, 33, 33, 3), dtype=float32)\n  • training=True\n  • mask=None",
     "output_type": "error",
     "traceback": [
      "\u001b[0;31m---------------------------------------------------------------------------\u001b[0m",
      "\u001b[0;31mValueError\u001b[0m                                Traceback (most recent call last)",
      "Cell \u001b[0;32mIn[14], line 36\u001b[0m\n\u001b[1;32m     33\u001b[0m batch_size \u001b[38;5;241m=\u001b[39m \u001b[38;5;241m32\u001b[39m\n\u001b[1;32m     35\u001b[0m model \u001b[38;5;241m=\u001b[39m build_patch_classifier(patch_size)\n\u001b[0;32m---> 36\u001b[0m model, training_history \u001b[38;5;241m=\u001b[39m \u001b[43mtrain_patch_classifier\u001b[49m\u001b[43m(\u001b[49m\u001b[43mX_train\u001b[49m\u001b[43m,\u001b[49m\u001b[43m \u001b[49m\u001b[43my_train\u001b[49m\u001b[43m,\u001b[49m\u001b[43m \u001b[49m\u001b[43mX_val\u001b[49m\u001b[43m,\u001b[49m\u001b[43m \u001b[49m\u001b[43my_val\u001b[49m\u001b[43m,\u001b[49m\u001b[43m \u001b[49m\u001b[43mpatch_size\u001b[49m\u001b[43m,\u001b[49m\u001b[43m \u001b[49m\u001b[43mepochs\u001b[49m\u001b[43m,\u001b[49m\u001b[43m \u001b[49m\u001b[43mbatch_size\u001b[49m\u001b[43m)\u001b[49m\n\u001b[1;32m     37\u001b[0m model\u001b[38;5;241m.\u001b[39msummary()\n",
      "Cell \u001b[0;32mIn[14], line 20\u001b[0m, in \u001b[0;36mtrain_patch_classifier\u001b[0;34m(X_train, y_train, X_val, y_val, patch_size, epochs, batch_size)\u001b[0m\n\u001b[1;32m     13\u001b[0m early_stopping_cb \u001b[38;5;241m=\u001b[39m callbacks\u001b[38;5;241m.\u001b[39mEarlyStopping(\n\u001b[1;32m     14\u001b[0m     patience\u001b[38;5;241m=\u001b[39m\u001b[38;5;241m5\u001b[39m, restore_best_weights\u001b[38;5;241m=\u001b[39m\u001b[38;5;28;01mTrue\u001b[39;00m, monitor\u001b[38;5;241m=\u001b[39m\u001b[38;5;124m\"\u001b[39m\u001b[38;5;124mval_accuracy\u001b[39m\u001b[38;5;124m\"\u001b[39m, mode\u001b[38;5;241m=\u001b[39m\u001b[38;5;124m\"\u001b[39m\u001b[38;5;124mmax\u001b[39m\u001b[38;5;124m\"\u001b[39m\n\u001b[1;32m     15\u001b[0m )\n\u001b[1;32m     16\u001b[0m reduce_lr_cb \u001b[38;5;241m=\u001b[39m callbacks\u001b[38;5;241m.\u001b[39mReduceLROnPlateau(\n\u001b[1;32m     17\u001b[0m     monitor\u001b[38;5;241m=\u001b[39m\u001b[38;5;124m\"\u001b[39m\u001b[38;5;124mval_loss\u001b[39m\u001b[38;5;124m\"\u001b[39m, factor\u001b[38;5;241m=\u001b[39m\u001b[38;5;241m0.5\u001b[39m, patience\u001b[38;5;241m=\u001b[39m\u001b[38;5;241m3\u001b[39m, min_lr\u001b[38;5;241m=\u001b[39m\u001b[38;5;241m1e-6\u001b[39m, mode\u001b[38;5;241m=\u001b[39m\u001b[38;5;124m\"\u001b[39m\u001b[38;5;124mmin\u001b[39m\u001b[38;5;124m\"\u001b[39m\n\u001b[1;32m     18\u001b[0m )\n\u001b[0;32m---> 20\u001b[0m history \u001b[38;5;241m=\u001b[39m \u001b[43mmodel\u001b[49m\u001b[38;5;241;43m.\u001b[39;49m\u001b[43mfit\u001b[49m\u001b[43m(\u001b[49m\n\u001b[1;32m     21\u001b[0m \u001b[43m    \u001b[49m\u001b[43mX_train\u001b[49m\u001b[43m,\u001b[49m\u001b[43m \u001b[49m\u001b[43my_train\u001b[49m\u001b[43m,\u001b[49m\n\u001b[1;32m     22\u001b[0m \u001b[43m    \u001b[49m\u001b[43mepochs\u001b[49m\u001b[38;5;241;43m=\u001b[39;49m\u001b[43mepochs\u001b[49m\u001b[43m,\u001b[49m\n\u001b[1;32m     23\u001b[0m \u001b[43m    \u001b[49m\u001b[43mbatch_size\u001b[49m\u001b[38;5;241;43m=\u001b[39;49m\u001b[43mbatch_size\u001b[49m\u001b[43m,\u001b[49m\n\u001b[1;32m     24\u001b[0m \u001b[43m    \u001b[49m\u001b[43mvalidation_data\u001b[49m\u001b[38;5;241;43m=\u001b[39;49m\u001b[43m(\u001b[49m\u001b[43mX_val\u001b[49m\u001b[43m,\u001b[49m\u001b[43m \u001b[49m\u001b[43my_val\u001b[49m\u001b[43m)\u001b[49m\u001b[43m,\u001b[49m\n\u001b[1;32m     25\u001b[0m \u001b[43m    \u001b[49m\u001b[43mcallbacks\u001b[49m\u001b[38;5;241;43m=\u001b[39;49m\u001b[43m[\u001b[49m\u001b[43mcheckpoint_cb\u001b[49m\u001b[43m,\u001b[49m\u001b[43m \u001b[49m\u001b[43mearly_stopping_cb\u001b[49m\u001b[43m,\u001b[49m\u001b[43m \u001b[49m\u001b[43mreduce_lr_cb\u001b[49m\u001b[43m]\u001b[49m\u001b[43m,\u001b[49m\n\u001b[1;32m     26\u001b[0m \u001b[43m    \u001b[49m\u001b[43mverbose\u001b[49m\u001b[38;5;241;43m=\u001b[39;49m\u001b[38;5;241;43m1\u001b[39;49m\u001b[43m \u001b[49m\n\u001b[1;32m     27\u001b[0m \u001b[43m\u001b[49m\u001b[43m)\u001b[49m\n\u001b[1;32m     29\u001b[0m \u001b[38;5;28;01mreturn\u001b[39;00m model, history\n",
      "File \u001b[0;32m/Library/Frameworks/Python.framework/Versions/3.11/lib/python3.11/site-packages/keras/src/utils/traceback_utils.py:122\u001b[0m, in \u001b[0;36mfilter_traceback.<locals>.error_handler\u001b[0;34m(*args, **kwargs)\u001b[0m\n\u001b[1;32m    119\u001b[0m     filtered_tb \u001b[38;5;241m=\u001b[39m _process_traceback_frames(e\u001b[38;5;241m.\u001b[39m__traceback__)\n\u001b[1;32m    120\u001b[0m     \u001b[38;5;66;03m# To get the full stack trace, call:\u001b[39;00m\n\u001b[1;32m    121\u001b[0m     \u001b[38;5;66;03m# `keras.config.disable_traceback_filtering()`\u001b[39;00m\n\u001b[0;32m--> 122\u001b[0m     \u001b[38;5;28;01mraise\u001b[39;00m e\u001b[38;5;241m.\u001b[39mwith_traceback(filtered_tb) \u001b[38;5;28;01mfrom\u001b[39;00m \u001b[38;5;28;01mNone\u001b[39;00m\n\u001b[1;32m    123\u001b[0m \u001b[38;5;28;01mfinally\u001b[39;00m:\n\u001b[1;32m    124\u001b[0m     \u001b[38;5;28;01mdel\u001b[39;00m filtered_tb\n",
      "File \u001b[0;32m/Library/Frameworks/Python.framework/Versions/3.11/lib/python3.11/site-packages/keras/src/layers/input_spec.py:227\u001b[0m, in \u001b[0;36massert_input_compatibility\u001b[0;34m(input_spec, inputs, layer_name)\u001b[0m\n\u001b[1;32m    222\u001b[0m     \u001b[38;5;28;01mfor\u001b[39;00m axis, value \u001b[38;5;129;01min\u001b[39;00m spec\u001b[38;5;241m.\u001b[39maxes\u001b[38;5;241m.\u001b[39mitems():\n\u001b[1;32m    223\u001b[0m         \u001b[38;5;28;01mif\u001b[39;00m value \u001b[38;5;129;01mis\u001b[39;00m \u001b[38;5;129;01mnot\u001b[39;00m \u001b[38;5;28;01mNone\u001b[39;00m \u001b[38;5;129;01mand\u001b[39;00m shape[axis] \u001b[38;5;129;01mnot\u001b[39;00m \u001b[38;5;129;01min\u001b[39;00m {\n\u001b[1;32m    224\u001b[0m             value,\n\u001b[1;32m    225\u001b[0m             \u001b[38;5;28;01mNone\u001b[39;00m,\n\u001b[1;32m    226\u001b[0m         }:\n\u001b[0;32m--> 227\u001b[0m             \u001b[38;5;28;01mraise\u001b[39;00m \u001b[38;5;167;01mValueError\u001b[39;00m(\n\u001b[1;32m    228\u001b[0m                 \u001b[38;5;124mf\u001b[39m\u001b[38;5;124m'\u001b[39m\u001b[38;5;124mInput \u001b[39m\u001b[38;5;132;01m{\u001b[39;00minput_index\u001b[38;5;132;01m}\u001b[39;00m\u001b[38;5;124m of layer \u001b[39m\u001b[38;5;124m\"\u001b[39m\u001b[38;5;132;01m{\u001b[39;00mlayer_name\u001b[38;5;132;01m}\u001b[39;00m\u001b[38;5;124m\"\u001b[39m\u001b[38;5;124m is \u001b[39m\u001b[38;5;124m'\u001b[39m\n\u001b[1;32m    229\u001b[0m                 \u001b[38;5;124mf\u001b[39m\u001b[38;5;124m\"\u001b[39m\u001b[38;5;124mincompatible with the layer: expected axis \u001b[39m\u001b[38;5;132;01m{\u001b[39;00maxis\u001b[38;5;132;01m}\u001b[39;00m\u001b[38;5;124m \u001b[39m\u001b[38;5;124m\"\u001b[39m\n\u001b[1;32m    230\u001b[0m                 \u001b[38;5;124mf\u001b[39m\u001b[38;5;124m\"\u001b[39m\u001b[38;5;124mof input shape to have value \u001b[39m\u001b[38;5;132;01m{\u001b[39;00mvalue\u001b[38;5;132;01m}\u001b[39;00m\u001b[38;5;124m, \u001b[39m\u001b[38;5;124m\"\u001b[39m\n\u001b[1;32m    231\u001b[0m                 \u001b[38;5;124m\"\u001b[39m\u001b[38;5;124mbut received input with \u001b[39m\u001b[38;5;124m\"\u001b[39m\n\u001b[1;32m    232\u001b[0m                 \u001b[38;5;124mf\u001b[39m\u001b[38;5;124m\"\u001b[39m\u001b[38;5;124mshape \u001b[39m\u001b[38;5;132;01m{\u001b[39;00mshape\u001b[38;5;132;01m}\u001b[39;00m\u001b[38;5;124m\"\u001b[39m\n\u001b[1;32m    233\u001b[0m             )\n\u001b[1;32m    234\u001b[0m \u001b[38;5;66;03m# Check shape.\u001b[39;00m\n\u001b[1;32m    235\u001b[0m \u001b[38;5;28;01mif\u001b[39;00m spec\u001b[38;5;241m.\u001b[39mshape \u001b[38;5;129;01mis\u001b[39;00m \u001b[38;5;129;01mnot\u001b[39;00m \u001b[38;5;28;01mNone\u001b[39;00m:\n",
      "\u001b[0;31mValueError\u001b[0m: Exception encountered when calling Sequential.call().\n\n\u001b[1mInput 0 of layer \"dense_10\" is incompatible with the layer: expected axis -1 of input shape to have value 16384, but received input with shape (None, 4096)\u001b[0m\n\nArguments received by Sequential.call():\n  • inputs=tf.Tensor(shape=(None, 33, 33, 3), dtype=float32)\n  • training=True\n  • mask=None"
     ]
    }
   ],
   "source": [
    "def train_patch_classifier(X_train, y_train, X_val, y_val, patch_size, epochs=20, batch_size=32):\n",
    "    model = build_patch_classifier(patch_size)\n",
    "\n",
    "    model.compile(\n",
    "        optimizer=optimizers.Adam(learning_rate=0.001),\n",
    "        loss='binary_crossentropy',\n",
    "        metrics=['accuracy']\n",
    "    )\n",
    "\n",
    "    checkpoint_cb = callbacks.ModelCheckpoint(\n",
    "        \"patch_classifier_best.keras\", save_best_only=True, monitor=\"val_accuracy\", mode=\"max\"\n",
    "    )\n",
    "    early_stopping_cb = callbacks.EarlyStopping(\n",
    "        patience=5, restore_best_weights=True, monitor=\"val_accuracy\", mode=\"max\"\n",
    "    )\n",
    "    reduce_lr_cb = callbacks.ReduceLROnPlateau(\n",
    "        monitor=\"val_loss\", factor=0.5, patience=3, min_lr=1e-6, mode=\"min\"\n",
    "    )\n",
    "\n",
    "    history = model.fit(\n",
    "        X_train, y_train,\n",
    "        epochs=epochs,\n",
    "        batch_size=batch_size,\n",
    "        validation_data=(X_val, y_val),\n",
    "        callbacks=[checkpoint_cb, early_stopping_cb, reduce_lr_cb],\n",
    "        verbose=1 \n",
    "    )\n",
    "\n",
    "    return model, history\n",
    "\n",
    "patch_size = 64\n",
    "epochs = 20\n",
    "batch_size = 32\n",
    "\n",
    "model = build_patch_classifier(patch_size)\n",
    "model, training_history = train_patch_classifier(X_train, y_train, X_val, y_val, patch_size, epochs, batch_size)\n",
    "model.summary()"
   ]
  },
  {
   "cell_type": "code",
   "execution_count": null,
   "metadata": {},
   "outputs": [
    {
     "name": "stderr",
     "output_type": "stream",
     "text": [
      "WARNING:absl:You are saving your model as an HDF5 file via `model.save()` or `keras.saving.save_model(model)`. This file format is considered legacy. We recommend using instead the native Keras format, e.g. `model.save('my_model.keras')` or `keras.saving.save_model(model, 'my_model.keras')`. \n"
     ]
    }
   ],
   "source": [
    "model.save(\"road_patch_classifier_32.keras\")"
   ]
  },
  {
   "cell_type": "code",
   "execution_count": null,
   "metadata": {},
   "outputs": [
    {
     "name": "stdout",
     "output_type": "stream",
     "text": [
      "\u001b[1m6205/6205\u001b[0m \u001b[32m━━━━━━━━━━━━━━━━━━━━\u001b[0m\u001b[37m\u001b[0m \u001b[1m20s\u001b[0m 3ms/step\n",
      "              precision    recall  f1-score   support\n",
      "\n",
      "         0.0       0.93      0.82      0.87     99930\n",
      "         1.0       0.84      0.93      0.88     98613\n",
      "\n",
      "    accuracy                           0.88    198543\n",
      "   macro avg       0.88      0.88      0.88    198543\n",
      "weighted avg       0.88      0.88      0.88    198543\n",
      "\n"
     ]
    },
    {
     "data": {
      "image/png": "[encoded data removed]",
      "text/plain": [
       "<Figure size 640x480 with 1 Axes>"
      ]
     },
     "metadata": {},
     "output_type": "display_data"
    }
   ],
   "source": [
    "from sklearn.metrics import confusion_matrix, classification_report\n",
    "y_pred = model.predict(X_val)\n",
    "y_pred = (y_pred > 0.5).astype(int)\n",
    "cm = confusion_matrix(y_val, y_pred)\n",
    "\n",
    "print(classification_report(y_val, y_pred))\n",
    "\n",
    "sns.heatmap(cm, annot=True, fmt='d', cmap='Blues', cbar=False)\n",
    "plt.xlabel('Predicted')\n",
    "plt.ylabel('True')\n",
    "plt.title('Confusion Matrix')\n",
    "plt.show()"
   ]
  },
  {
   "cell_type": "code",
   "execution_count": null,
   "metadata": {},
   "outputs": [
    {
     "name": "stdout",
     "output_type": "stream",
     "text": [
      "\u001b[1m6205/6205\u001b[0m \u001b[32m━━━━━━━━━━━━━━━━━━━━\u001b[0m\u001b[37m\u001b[0m \u001b[1m21s\u001b[0m 3ms/step\n"
     ]
    },
    {
     "data": {
      "image/png": "[encoded data removed]",
      "text/plain": [
       "<Figure size 640x480 with 1 Axes>"
      ]
     },
     "metadata": {},
     "output_type": "display_data"
    }
   ],
   "source": [
    "# plot roc curve\n",
    "from sklearn.metrics import roc_curve, auc\n",
    "y_pred = model.predict(X_val)\n",
    "\n",
    "fpr, tpr, threshold = roc_curve(y_val, y_pred)\n",
    "roc_auc = auc(fpr, tpr)\n",
    "\n",
    "plt.figure()\n",
    "plt.plot(fpr, tpr, color='darkorange', lw=2, label='ROC curve (area = %0.2f)' % roc_auc)\n",
    "plt.plot([0, 1], [0, 1], color='navy', lw=2, linestyle='--')\n",
    "plt.xlim([0.0, 1.0])\n",
    "plt.ylim([0.0, 1.05])\n",
    "plt.xlabel('False Positive Rate')\n",
    "plt.ylabel('True Positive Rate')\n",
    "plt.title('Receiver Operating Characteristic')\n",
    "plt.legend(loc='lower right')\n",
    "plt.show()\n"
   ]
  }
 ],
 "metadata": {
  "kernelspec": {
   "display_name": "Python 3",
   "language": "python",
   "name": "python3"
  },
  "language_info": {
   "codemirror_mode": {
    "name": "ipython",
    "version": 3
   },
   "file_extension": ".py",
   "mimetype": "text/x-python",
   "name": "python",
   "nbconvert_exporter": "python",
   "pygments_lexer": "ipython3",
   "version": "3.11.1"
  }
 },
 "nbformat": 4,
 "nbformat_minor": 2
}
